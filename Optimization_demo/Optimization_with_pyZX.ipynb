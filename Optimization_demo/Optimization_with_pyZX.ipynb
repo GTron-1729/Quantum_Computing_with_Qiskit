{
  "nbformat": 4,
  "nbformat_minor": 0,
  "metadata": {
    "colab": {
      "name": "Optimization_with_pyZX.ipynb",
      "provenance": []
    },
    "kernelspec": {
      "name": "python3",
      "display_name": "Python 3"
    },
    "accelerator": "GPU",
    "widgets": {
      "application/vnd.jupyter.widget-state+json": {
        "910fa30cc2034da385838859f82b7e18": {
          "model_module": "@jupyter-widgets/controls",
          "model_name": "VBoxModel",
          "state": {
            "_view_name": "VBoxView",
            "_dom_classes": [
              "widget-interact"
            ],
            "_model_name": "VBoxModel",
            "_view_module": "@jupyter-widgets/controls",
            "_model_module_version": "1.5.0",
            "_view_count": null,
            "_view_module_version": "1.5.0",
            "box_style": "",
            "layout": "IPY_MODEL_7cf9113eaff74eaf9b0df500bc435799",
            "_model_module": "@jupyter-widgets/controls",
            "children": [
              "IPY_MODEL_2a7bdd4c101f4155aa295c36d0884e59",
              "IPY_MODEL_81ea17248a244b41ae3a4b53295302ba"
            ]
          }
        },
        "7cf9113eaff74eaf9b0df500bc435799": {
          "model_module": "@jupyter-widgets/base",
          "model_name": "LayoutModel",
          "state": {
            "_view_name": "LayoutView",
            "grid_template_rows": null,
            "right": null,
            "justify_content": null,
            "_view_module": "@jupyter-widgets/base",
            "overflow": null,
            "_model_module_version": "1.2.0",
            "_view_count": null,
            "flex_flow": null,
            "width": null,
            "min_width": null,
            "border": null,
            "align_items": null,
            "bottom": null,
            "_model_module": "@jupyter-widgets/base",
            "top": null,
            "grid_column": null,
            "overflow_y": null,
            "overflow_x": null,
            "grid_auto_flow": null,
            "grid_area": null,
            "grid_template_columns": null,
            "flex": null,
            "_model_name": "LayoutModel",
            "justify_items": null,
            "grid_row": null,
            "max_height": null,
            "align_content": null,
            "visibility": null,
            "align_self": null,
            "height": null,
            "min_height": null,
            "padding": null,
            "grid_auto_rows": null,
            "grid_gap": null,
            "max_width": null,
            "order": null,
            "_view_module_version": "1.2.0",
            "grid_template_areas": null,
            "object_position": null,
            "object_fit": null,
            "grid_auto_columns": null,
            "margin": null,
            "display": null,
            "left": null
          }
        },
        "2a7bdd4c101f4155aa295c36d0884e59": {
          "model_module": "@jupyter-widgets/controls",
          "model_name": "IntSliderModel",
          "state": {
            "_view_name": "IntSliderView",
            "style": "IPY_MODEL_55ea714e23094aedabfa532ae677a672",
            "_dom_classes": [],
            "description": "rewrite",
            "step": 1,
            "_model_name": "IntSliderModel",
            "orientation": "horizontal",
            "max": 15,
            "_view_module": "@jupyter-widgets/controls",
            "_model_module_version": "1.5.0",
            "value": 0,
            "_view_count": null,
            "disabled": false,
            "_view_module_version": "1.5.0",
            "min": 0,
            "continuous_update": true,
            "readout_format": "d",
            "description_tooltip": null,
            "readout": true,
            "_model_module": "@jupyter-widgets/controls",
            "layout": "IPY_MODEL_afa800f03e0c4af9856e560c424b4167"
          }
        },
        "81ea17248a244b41ae3a4b53295302ba": {
          "model_module": "@jupyter-widgets/output",
          "model_name": "OutputModel",
          "state": {
            "_view_name": "OutputView",
            "msg_id": "",
            "_dom_classes": [],
            "_model_name": "OutputModel",
            "outputs": [
              {
                "output_type": "display_data",
                "metadata": {
                  "tags": []
                },
                "text/markdown": "Rewrite step: start",
                "text/plain": "<IPython.core.display.Markdown object>"
              },
              {
                "output_type": "display_data",
                "metadata": {
                  "tags": []
                },
                "image/png": "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\n",
                "text/plain": "<Figure size 576x144 with 1 Axes>"
              }
            ],
            "_view_module": "@jupyter-widgets/output",
            "_model_module_version": "1.0.0",
            "_view_count": null,
            "_view_module_version": "1.0.0",
            "layout": "IPY_MODEL_7c47a04a82f54f4f8125076aa3310d89",
            "_model_module": "@jupyter-widgets/output"
          }
        },
        "55ea714e23094aedabfa532ae677a672": {
          "model_module": "@jupyter-widgets/controls",
          "model_name": "SliderStyleModel",
          "state": {
            "_view_name": "StyleView",
            "handle_color": null,
            "_model_name": "SliderStyleModel",
            "description_width": "",
            "_view_module": "@jupyter-widgets/base",
            "_model_module_version": "1.5.0",
            "_view_count": null,
            "_view_module_version": "1.2.0",
            "_model_module": "@jupyter-widgets/controls"
          }
        },
        "afa800f03e0c4af9856e560c424b4167": {
          "model_module": "@jupyter-widgets/base",
          "model_name": "LayoutModel",
          "state": {
            "_view_name": "LayoutView",
            "grid_template_rows": null,
            "right": null,
            "justify_content": null,
            "_view_module": "@jupyter-widgets/base",
            "overflow": null,
            "_model_module_version": "1.2.0",
            "_view_count": null,
            "flex_flow": null,
            "width": "800px",
            "min_width": null,
            "border": null,
            "align_items": null,
            "bottom": null,
            "_model_module": "@jupyter-widgets/base",
            "top": null,
            "grid_column": null,
            "overflow_y": null,
            "overflow_x": null,
            "grid_auto_flow": null,
            "grid_area": null,
            "grid_template_columns": null,
            "flex": null,
            "_model_name": "LayoutModel",
            "justify_items": null,
            "grid_row": null,
            "max_height": null,
            "align_content": null,
            "visibility": null,
            "align_self": null,
            "height": null,
            "min_height": null,
            "padding": null,
            "grid_auto_rows": null,
            "grid_gap": null,
            "max_width": null,
            "order": null,
            "_view_module_version": "1.2.0",
            "grid_template_areas": null,
            "object_position": null,
            "object_fit": null,
            "grid_auto_columns": null,
            "margin": null,
            "display": null,
            "left": null
          }
        },
        "7c47a04a82f54f4f8125076aa3310d89": {
          "model_module": "@jupyter-widgets/base",
          "model_name": "LayoutModel",
          "state": {
            "_view_name": "LayoutView",
            "grid_template_rows": null,
            "right": null,
            "justify_content": null,
            "_view_module": "@jupyter-widgets/base",
            "overflow": null,
            "_model_module_version": "1.2.0",
            "_view_count": null,
            "flex_flow": null,
            "width": null,
            "min_width": null,
            "border": null,
            "align_items": null,
            "bottom": null,
            "_model_module": "@jupyter-widgets/base",
            "top": null,
            "grid_column": null,
            "overflow_y": null,
            "overflow_x": null,
            "grid_auto_flow": null,
            "grid_area": null,
            "grid_template_columns": null,
            "flex": null,
            "_model_name": "LayoutModel",
            "justify_items": null,
            "grid_row": null,
            "max_height": null,
            "align_content": null,
            "visibility": null,
            "align_self": null,
            "height": "280px",
            "min_height": null,
            "padding": null,
            "grid_auto_rows": null,
            "grid_gap": null,
            "max_width": null,
            "order": null,
            "_view_module_version": "1.2.0",
            "grid_template_areas": null,
            "object_position": null,
            "object_fit": null,
            "grid_auto_columns": null,
            "margin": null,
            "display": null,
            "left": null
          }
        }
      }
    }
  },
  "cells": [
    {
      "cell_type": "markdown",
      "metadata": {
        "id": "ZmcgPZSfyOI7"
      },
      "source": [
        "# Step 1: Installation\n",
        "\n",
        "Simply run ```pip install pyzx``` because we intent to use PyZX as a Python module for use in other projects."
      ]
    },
    {
      "cell_type": "code",
      "metadata": {
        "id": "FTNLjcaNm2Zl",
        "outputId": "17e38d6a-341e-4634-b918-b19fb8663f0d",
        "colab": {
          "base_uri": "https://localhost:8080/",
          "height": 134
        }
      },
      "source": [
        "!pip install pyzx"
      ],
      "execution_count": 2,
      "outputs": [
        {
          "output_type": "stream",
          "text": [
            "Collecting pyzx\n",
            "\u001b[?25l  Downloading https://files.pythonhosted.org/packages/68/13/c5610fda3d72b5a2a207d13ae22745b9529024f3674153ede7f0b70e06f8/pyzx-0.6.0-py3-none-any.whl (168kB)\n",
            "\r\u001b[K     |██                              | 10kB 17.0MB/s eta 0:00:01\r\u001b[K     |████                            | 20kB 4.7MB/s eta 0:00:01\r\u001b[K     |█████▉                          | 30kB 5.6MB/s eta 0:00:01\r\u001b[K     |███████▉                        | 40kB 6.6MB/s eta 0:00:01\r\u001b[K     |█████████▊                      | 51kB 5.5MB/s eta 0:00:01\r\u001b[K     |███████████▊                    | 61kB 6.3MB/s eta 0:00:01\r\u001b[K     |█████████████▋                  | 71kB 6.7MB/s eta 0:00:01\r\u001b[K     |███████████████▋                | 81kB 7.1MB/s eta 0:00:01\r\u001b[K     |█████████████████▌              | 92kB 7.5MB/s eta 0:00:01\r\u001b[K     |███████████████████▌            | 102kB 7.1MB/s eta 0:00:01\r\u001b[K     |█████████████████████▍          | 112kB 7.1MB/s eta 0:00:01\r\u001b[K     |███████████████████████▍        | 122kB 7.1MB/s eta 0:00:01\r\u001b[K     |█████████████████████████▎      | 133kB 7.1MB/s eta 0:00:01\r\u001b[K     |███████████████████████████▎    | 143kB 7.1MB/s eta 0:00:01\r\u001b[K     |█████████████████████████████▏  | 153kB 7.1MB/s eta 0:00:01\r\u001b[K     |███████████████████████████████▏| 163kB 7.1MB/s eta 0:00:01\r\u001b[K     |████████████████████████████████| 174kB 7.1MB/s \n",
            "\u001b[?25hRequirement already satisfied: numpy>=1.12 in /usr/local/lib/python3.6/dist-packages (from pyzx) (1.18.5)\n",
            "Requirement already satisfied: typing-extensions>=3.7.4 in /usr/local/lib/python3.6/dist-packages (from pyzx) (3.7.4.3)\n",
            "Installing collected packages: pyzx\n",
            "Successfully installed pyzx-0.6.0\n"
          ],
          "name": "stdout"
        }
      ]
    },
    {
      "cell_type": "markdown",
      "metadata": {
        "id": "HCLHYjL6210Y"
      },
      "source": [
        "Let’s start by importing the library"
      ]
    },
    {
      "cell_type": "code",
      "metadata": {
        "id": "xRYkrwtCym5l"
      },
      "source": [
        " import pyzx as zx"
      ],
      "execution_count": 3,
      "outputs": []
    },
    {
      "cell_type": "markdown",
      "metadata": {
        "id": "CNEhxNZ-3yCB"
      },
      "source": [
        "Then we can create a new random <b>Clifford circuit</b> and visualise it.\n",
        "\n",
        "( Clifford circuits – i.e. circuits composed of only CNOT, Hadamard, and phase gates )"
      ]
    },
    {
      "cell_type": "code",
      "metadata": {
        "id": "VBfIZ-4B27tY",
        "outputId": "7962f9e8-e725-4a8c-89b6-852d4738c4f3",
        "colab": {
          "base_uri": "https://localhost:8080/",
          "height": 175
        }
      },
      "source": [
        "qubit_amount = 4\n",
        "depth = 15\n",
        "circ = zx.generate.cliffords(qubit_amount, depth)\n",
        "zx.draw_matplotlib(circ,labels=True,h_edge_draw='box')"
      ],
      "execution_count": 4,
      "outputs": [
        {
          "output_type": "execute_result",
          "data": {
            "image/png": "[encoded data removed]",
            "text/plain": [
              "<Figure size 576x144 with 1 Axes>"
            ]
          },
          "metadata": {
            "tags": []
          },
          "execution_count": 4
        }
      ]
    },
    {
      "cell_type": "markdown",
      "metadata": {
        "id": "srOMyL_h78_J"
      },
      "source": [
        "\n",
        "<b>Depth</b>: \n",
        "- The circuit depth is the length of the longest path from the input to the output, moving forward in time along qubit wires.\n",
        "- The stopping points on the path are the gates, the allowed paths that must be considered can enter and exit those gates on any input / output, and the length is the number of jumps from each gate to the next gates along the path."
      ]
    },
    {
      "cell_type": "markdown",
      "metadata": {
        "id": "8lfwKzfz7-qq"
      },
      "source": [
        "This will require some understanding of [ZX Calculus](https://en.wikipedia.org/wiki/ZX-calculus).\n",
        "\n",
        "The green and red nodes represent Z- and X-phase gates respectively, the yellow boxes are Hadamard gates, and the vertical lines going between two different colored nodes are CNOT gates.\n",
        "\n",
        "Internally this circuit is represented as a graph:"
      ]
    },
    {
      "cell_type": "code",
      "metadata": {
        "id": "xEQKJ5s38PDT",
        "outputId": "e960aedf-9331-4905-ed28-e9f43147b315",
        "colab": {
          "base_uri": "https://localhost:8080/",
          "height": 104
        }
      },
      "source": [
        "print(circ)\n",
        "print(\"All edges are: \", list(circ.edges()))\n",
        "print(\"\\nThe neighbors of a particular vertex: \", list(circ.neighbors(24)))\n"
      ],
      "execution_count": 5,
      "outputs": [
        {
          "output_type": "stream",
          "text": [
            "Graph(46 vertices, 53 edges)\n",
            "All edges are:  [(0, 4), (1, 5), (2, 6), (3, 7), (4, 9), (5, 17), (6, 10), (7, 8), (8, 11), (9, 13), (10, 11), (10, 12), (11, 18), (12, 13), (12, 15), (13, 14), (14, 15), (14, 20), (15, 16), (16, 17), (16, 19), (17, 23), (18, 19), (18, 22), (19, 21), (20, 21), (20, 24), (21, 31), (22, 25), (23, 27), (24, 29), (25, 26), (26, 27), (26, 30), (27, 28), (28, 29), (28, 37), (29, 32), (30, 31), (30, 33), (31, 40), (32, 33), (32, 35), (33, 34), (34, 41), (35, 36), (36, 37), (36, 38), (37, 39), (38, 42), (39, 43), (40, 44), (41, 45)]\n",
            "\n",
            "The neighbors of a particular vertex:  [20, 29]\n"
          ],
          "name": "stdout"
        }
      ]
    },
    {
      "cell_type": "markdown",
      "metadata": {
        "id": "kPPKqT588eyI"
      },
      "source": [
        "\n",
        "Using this graph representation we can use the rules of the [ZX-calculus](https://en.wikipedia.org/wiki/ZX-calculus) to simplify it:"
      ]
    },
    {
      "cell_type": "code",
      "metadata": {
        "id": "kKbRhnl_8Yo2",
        "outputId": "c2c29a6b-8ee7-4aa4-ccd9-14ac0620f7c5",
        "colab": {
          "base_uri": "https://localhost:8080/",
          "height": 34
        }
      },
      "source": [
        "g = circ.copy()\n",
        "zx.clifford_simp(g)"
      ],
      "execution_count": 6,
      "outputs": [
        {
          "output_type": "execute_result",
          "data": {
            "text/plain": [
              "2"
            ]
          },
          "metadata": {
            "tags": []
          },
          "execution_count": 6
        }
      ]
    },
    {
      "cell_type": "markdown",
      "metadata": {
        "id": "yn-Iz15v84fP"
      },
      "source": [
        "Let us use one of the built-in ZX-diagram simplification routines on this ZX-diagram:\n",
        "\n",
        "The command ```zx.clifford_simp(g)``` simplifies the diagram"
      ]
    },
    {
      "cell_type": "code",
      "metadata": {
        "id": "bh0bkyL180X8",
        "outputId": "e8cb13cd-2372-4057-9b31-b7416765a28a",
        "colab": {
          "base_uri": "https://localhost:8080/",
          "height": 17
        }
      },
      "source": [
        "g.normalize()\n",
        "zx.draw(g)"
      ],
      "execution_count": 7,
      "outputs": [
        {
          "output_type": "display_data",
          "data": {
            "text/html": [
              "<div style=\"overflow:auto\" id=\"graph-output-1\"></div>\n",
              "<script type=\"text/javascript\">\n",
              "require.config({baseUrl: \"../usr/local/lib/python3.6/dist-packages/pyzx/js\",paths: {d3: \"d3.v5.min\"} });\n",
              "// PyZX - Python library for quantum circuit rewriting \n",
              "//        and optimisation using the ZX-calculus\n",
              "// Copyright (C) 2018 - Aleks Kissinger and John van de Wetering\n",
              "\n",
              "// Licensed under the Apache License, Version 2.0 (the \"License\");\n",
              "// you may not use this file except in compliance with the License.\n",
              "// You may obtain a copy of the License at\n",
              "\n",
              "//    http://www.apache.org/licenses/LICENSE-2.0\n",
              "\n",
              "// Unless required by applicable law or agreed to in writing, software\n",
              "// distributed under the License is distributed on an \"AS IS\" BASIS,\n",
              "// WITHOUT WARRANTIES OR CONDITIONS OF ANY KIND, either express or implied.\n",
              "// See the License for the specific language governing permissions and\n",
              "// limitations under the License.\n",
              "\n",
              "require.undef('zx_viewer');\n",
              "\n",
              "define('zx_viewer', ['d3'], function(d3) {\n",
              "    \n",
              "    // styling functions\n",
              "    function nodeColor(t) {\n",
              "        if (t == 0) return \"black\";\n",
              "        else if (t == 1) return \"green\";\n",
              "        else if (t == 2) return \"red\";\n",
              "        else if (t == 3) return \"yellow\";\n",
              "    }\n",
              "\n",
              "    function edgeColor(t) {\n",
              "        if (t == 1) return \"black\";\n",
              "        else if (t == 2) return \"#08f\";\n",
              "    }\n",
              "\n",
              "    function nodeStyle(selected) {\n",
              "        return selected ? \"stroke-width: 2px; stroke: #00f\" : \"stroke-width: 1.5px\";\n",
              "    }\n",
              "\n",
              "    return {\n",
              "    showGraph: function(tag, graph, width, height, scale, node_size, auto_hbox, show_labels) {\n",
              "        var ntab = {};\n",
              "\n",
              "        graph.nodes.forEach(function(d) {\n",
              "            ntab[d.name] = d;\n",
              "            d.selected = false;\n",
              "            d.previouslySelected = false;\n",
              "            d.nhd = [];\n",
              "        });\n",
              "\n",
              "        var spiders_and_boundaries = graph.nodes.filter(function(d) {\n",
              "            return d.t != 3;\n",
              "        });\n",
              "\n",
              "        graph.links.forEach(function(d) {\n",
              "            var s = ntab[d.source];\n",
              "            var t = ntab[d.target];\n",
              "            d.source = s;\n",
              "            d.target = t;\n",
              "            s.nhd.push(t);\n",
              "            t.nhd.push(s);\n",
              "        });\n",
              "\n",
              "        var shiftKey;\n",
              "\n",
              "        // SETUP SVG ITEMS\n",
              "\n",
              "        var svg = d3.select(tag)\n",
              "            //.attr(\"tabindex\", 1)\n",
              "            .on(\"keydown.brush\", function() {shiftKey = d3.event.shiftKey || d3.event.metaKey;})\n",
              "            .on(\"keyup.brush\", function() {shiftKey = d3.event.shiftKey || d3.event.metaKey;})\n",
              "            //.each(function() { this.focus(); })\n",
              "            .append(\"svg\")\n",
              "            .attr(\"style\", \"max-width: none; max-height: none\")\n",
              "            .attr(\"width\", width)\n",
              "            .attr(\"height\", height);\n",
              "\n",
              "        var link = svg.append(\"g\")\n",
              "            .attr(\"class\", \"link\")\n",
              "            .selectAll(\"line\")\n",
              "            .data(graph.links)\n",
              "            .enter().append(\"line\")\n",
              "            .attr(\"stroke\", function(d) { return edgeColor(d.t); })\n",
              "            .attr(\"style\", \"stroke-width: 1.5px\");\n",
              "\n",
              "        var brush = svg.append(\"g\")\n",
              "            .attr(\"class\", \"brush\");\n",
              "\n",
              "        var node = svg.append(\"g\")\n",
              "            .attr(\"class\", \"node\")\n",
              "            .selectAll(\"g\")\n",
              "            .data(graph.nodes)\n",
              "            .enter().append(\"g\")\n",
              "            .attr(\"transform\", function(d) {\n",
              "                return \"translate(\" + d.x + \",\" + d.y +\")\";\n",
              "            });\n",
              "\n",
              "        node.filter(function(d) { return d.t != 3; })\n",
              "            .append(\"circle\")\n",
              "            .attr(\"r\", function(d) {\n",
              "               if (d.t == 0) return 0.5 * node_size;\n",
              "               else return node_size;\n",
              "            })\n",
              "            .attr(\"fill\", function(d) { return nodeColor(d.t); })\n",
              "            .attr(\"stroke\", \"black\");\n",
              "\n",
              "        var hbox = node.filter(function(d) { return d.t == 3; });\n",
              "\n",
              "        hbox.append(\"rect\")\n",
              "            .attr(\"x\", -0.75 * node_size).attr(\"y\", -0.75 * node_size)\n",
              "            .attr(\"width\", node_size * 1.5).attr(\"height\", node_size * 1.5)\n",
              "            .attr(\"fill\", function(d) { return nodeColor(d.t); })\n",
              "            .attr(\"stroke\", \"black\");\n",
              "\n",
              "        node.filter(function(d) { return d.phase != ''; })\n",
              "            .append(\"text\")\n",
              "            .attr(\"y\", 0.7 * node_size + 14)\n",
              "            .text(function (d) { return d.phase })\n",
              "            .attr(\"text-anchor\", \"middle\")\n",
              "            .attr(\"font-size\", \"12px\")\n",
              "            .attr(\"font-family\", \"monospace\")\n",
              "            .attr(\"fill\", \"#00d\")\n",
              "            .attr('style', 'pointer-events: none; user-select: none;');\n",
              "\n",
              "        if (show_labels) {\n",
              "            node.append(\"text\")\n",
              "                .attr(\"y\", -0.7 * node_size - 5)\n",
              "                .text(function (d) { return d.name; })\n",
              "                .attr(\"text-anchor\", \"middle\")\n",
              "                .attr(\"font-size\", \"8px\")\n",
              "                .attr(\"font-family\", \"monospace\")\n",
              "                .attr(\"fill\", \"#ccc\")\n",
              "                .attr('style', 'pointer-events: none; user-select: none;');\n",
              "        }\n",
              "\n",
              "        function update_hboxes() {\n",
              "            if (auto_hbox) {\n",
              "                var pos = {};\n",
              "                hbox.attr(\"transform\", function(d) {\n",
              "                    // calculate barycenter of non-hbox neighbours, then nudge a bit\n",
              "                    // to the NE.\n",
              "                    var x=0,y=0,sz=0;\n",
              "                    for (var i = 0; i < d.nhd.length; ++i) {\n",
              "                        if (d.nhd[i].t != 3) {\n",
              "                            sz++;\n",
              "                            x += d.nhd[i].x;\n",
              "                            y += d.nhd[i].y;\n",
              "                        }\n",
              "                    }\n",
              "\n",
              "                    offset = 0.25 * scale;\n",
              "\n",
              "                    if (sz != 0) {\n",
              "                        x = (x/sz) + offset;\n",
              "                        y = (y/sz) - offset;\n",
              "\n",
              "                        while (pos[[x,y]]) {\n",
              "                            x += offset;\n",
              "                        }\n",
              "                        d.x = x;\n",
              "                        d.y = y;\n",
              "                        pos[[x,y]] = true;\n",
              "                    }\n",
              "\n",
              "                    return \"translate(\"+d.x+\",\"+d.y+\")\";\n",
              "                });\n",
              "            }\n",
              "        }\n",
              "\n",
              "        update_hboxes();\n",
              "\n",
              "        link.attr(\"x1\", function(d) { return d.source.x; })\n",
              "            .attr(\"y1\", function(d) { return d.source.y; })\n",
              "            .attr(\"x2\", function(d) { return d.target.x; })\n",
              "            .attr(\"y2\", function(d) { return d.target.y; });\n",
              "\n",
              "        // EVENTS FOR DRAGGING AND SELECTION\n",
              "\n",
              "        node.on(\"mousedown\", function(d) {\n",
              "                if (shiftKey) {\n",
              "                    d3.select(this).select(\":first-child\").attr(\"style\", nodeStyle(d.selected = !d.selected));\n",
              "                    d3.event.stopImmediatePropagation();\n",
              "                } else if (!d.selected) {\n",
              "                    node.select(\":first-child\").attr(\"style\", function(p) { return nodeStyle(p.selected = d === p); });\n",
              "                }\n",
              "            })\n",
              "            .call(d3.drag().on(\"drag\", function(d) {\n",
              "                var dx = d3.event.dx;\n",
              "                var dy = d3.event.dy;\n",
              "                // node.filter(function(d) { return d.selected; })\n",
              "                //     .attr(\"cx\", function(d) { return d.x += dx; })\n",
              "                //     .attr(\"cy\", function(d) { return d.y += dy; });\n",
              "                node.filter(function(d) { return d.selected; })\n",
              "                    .attr(\"transform\", function(d) {\n",
              "                        d.x += dx;\n",
              "                        d.y += dy;\n",
              "                        return \"translate(\" + d.x + \",\" + d.y +\")\";\n",
              "                    });\n",
              "\n",
              "                update_hboxes();\n",
              "\n",
              "                link.filter(function(d) { return d.source.selected ||\n",
              "                                            (auto_hbox && d.source.t == 3); })\n",
              "                    .attr(\"x1\", function(d) { return d.source.x; })\n",
              "                    .attr(\"y1\", function(d) { return d.source.y; });\n",
              "\n",
              "                link.filter(function(d) { return d.target.selected ||\n",
              "                                            (auto_hbox && d.target.t == 3); })\n",
              "                    .attr(\"x2\", function(d) { return d.target.x; })\n",
              "                    .attr(\"y2\", function(d) { return d.target.y; });\n",
              "\n",
              "                // text.filter(function(d) { return d.selected; })\n",
              "                //     .attr(\"x\", function(d) { return d.x; })\n",
              "                //     .attr(\"y\", function(d) { return d.y + 0.7 * node_size + 14; });\n",
              "            }));\n",
              "\n",
              "        brush.call(d3.brush().keyModifiers(false)\n",
              "            .extent([[0, 0], [width, height]])\n",
              "            .on(\"start\", function() {\n",
              "                if (d3.event.sourceEvent.type !== \"end\") {\n",
              "                    node.select(\":first-child\").attr(\"style\", function(d) {\n",
              "                        return nodeStyle(\n",
              "                            d.selected = d.previouslySelected = shiftKey &&\n",
              "                            d.selected);\n",
              "                    });\n",
              "                }\n",
              "            })\n",
              "            .on(\"brush\", function() {\n",
              "                if (d3.event.sourceEvent.type !== \"end\") {\n",
              "                    var selection = d3.event.selection;\n",
              "                    node.select(\":first-child\").attr(\"style\", function(d) {\n",
              "                        return nodeStyle(d.selected = d.previouslySelected ^\n",
              "                            (selection != null\n",
              "                            && selection[0][0] <= d.x && d.x < selection[1][0]\n",
              "                            && selection[0][1] <= d.y && d.y < selection[1][1]));\n",
              "                    });\n",
              "                }\n",
              "            })\n",
              "            .on(\"end\", function() {\n",
              "                if (d3.event.selection != null) {\n",
              "                    d3.select(this).call(d3.event.target.move, null);\n",
              "                }\n",
              "            }));\n",
              "    }};\n",
              "});\n",
              "\n",
              "</script>\n",
              "<script type=\"text/javascript\">\n",
              "require(['zx_viewer'], function(zx_viewer) {\n",
              "    zx_viewer.showGraph('#graph-output-1',\n",
              "    JSON.parse('{\"nodes\": [{\"name\": \"0\", \"x\": 50, \"y\": 100, \"t\": 0, \"phase\": \"\"}, {\"name\": \"1\", \"x\": 50, \"y\": 150, \"t\": 0, \"phase\": \"\"}, {\"name\": \"2\", \"x\": 50, \"y\": 200, \"t\": 0, \"phase\": \"\"}, {\"name\": \"3\", \"x\": 50, \"y\": 250, \"t\": 0, \"phase\": \"\"}, {\"name\": \"6\", \"x\": 100, \"y\": 200, \"t\": 1, \"phase\": \"3\\u03c0/2\"}, {\"name\": \"8\", \"x\": 100, \"y\": 250, \"t\": 1, \"phase\": \"\\u03c0\"}, {\"name\": \"9\", \"x\": 100, \"y\": 100, \"t\": 1, \"phase\": \"3\\u03c0/2\"}, {\"name\": \"15\", \"x\": 150, \"y\": 200, \"t\": 1, \"phase\": \"\\u03c0\"}, {\"name\": \"17\", \"x\": 100, \"y\": 150, \"t\": 1, \"phase\": \"3\\u03c0/2\"}, {\"name\": \"30\", \"x\": 150, \"y\": 250, \"t\": 1, \"phase\": \"\\u03c0\"}, {\"name\": \"36\", \"x\": 150, \"y\": 100, \"t\": 1, \"phase\": \"\\u03c0/2\"}, {\"name\": \"37\", \"x\": 150, \"y\": 150, \"t\": 1, \"phase\": \"\\u03c0/2\"}, {\"name\": \"42\", \"x\": 200, \"y\": 100, \"t\": 0, \"phase\": \"\"}, {\"name\": \"43\", \"x\": 200, \"y\": 150, \"t\": 0, \"phase\": \"\"}, {\"name\": \"44\", \"x\": 200, \"y\": 200, \"t\": 0, \"phase\": \"\"}, {\"name\": \"45\", \"x\": 200, \"y\": 250, \"t\": 0, \"phase\": \"\"}], \"links\": [{\"source\": \"0\", \"target\": \"9\", \"t\": 2}, {\"source\": \"1\", \"target\": \"17\", \"t\": 2}, {\"source\": \"2\", \"target\": \"6\", \"t\": 1}, {\"source\": \"3\", \"target\": \"8\", \"t\": 2}, {\"source\": \"6\", \"target\": \"8\", \"t\": 2}, {\"source\": \"6\", \"target\": \"36\", \"t\": 2}, {\"source\": \"6\", \"target\": \"37\", \"t\": 2}, {\"source\": \"8\", \"target\": \"17\", \"t\": 2}, {\"source\": \"8\", \"target\": \"15\", \"t\": 2}, {\"source\": \"8\", \"target\": \"36\", \"t\": 2}, {\"source\": \"8\", \"target\": \"37\", \"t\": 2}, {\"source\": \"8\", \"target\": \"9\", \"t\": 2}, {\"source\": \"9\", \"target\": \"15\", \"t\": 2}, {\"source\": \"9\", \"target\": \"36\", \"t\": 2}, {\"source\": \"15\", \"target\": \"30\", \"t\": 2}, {\"source\": \"15\", \"target\": \"44\", \"t\": 2}, {\"source\": \"17\", \"target\": \"30\", \"t\": 2}, {\"source\": \"30\", \"target\": \"45\", \"t\": 2}, {\"source\": \"30\", \"target\": \"36\", \"t\": 2}, {\"source\": \"30\", \"target\": \"37\", \"t\": 2}, {\"source\": \"36\", \"target\": \"37\", \"t\": 2}, {\"source\": \"36\", \"target\": \"42\", \"t\": 1}, {\"source\": \"37\", \"target\": \"43\", \"t\": 2}]}'), 250, 350, 50, 10.0, true, false);\n",
              "});\n",
              "</script>"
            ],
            "text/plain": [
              "<IPython.core.display.HTML object>"
            ]
          },
          "metadata": {
            "tags": []
          }
        }
      ]
    },
    {
      "cell_type": "markdown",
      "metadata": {
        "id": "L_b29tRb9ZEz"
      },
      "source": [
        "The command ```g.normalize()``` Reposition nodes horizontally to look nicer. Something like below,\n",
        "![clifford_simp.png](data:image/png;base64,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)\n",
        "\n",
        "The blue lines represent edges that have a Hadamard gate on them.\n",
        "\n",
        "Let's try to see in a bit more detail what goes into rewriting this circuit."
      ]
    },
    {
      "cell_type": "code",
      "metadata": {
        "id": "CUjq9-u4-3Fe",
        "outputId": "f33a8cc5-51ff-4871-cd17-a94dd68435fa",
        "colab": {
          "base_uri": "https://localhost:8080/",
          "height": 329,
          "referenced_widgets": [
            "910fa30cc2034da385838859f82b7e18",
            "7cf9113eaff74eaf9b0df500bc435799",
            "2a7bdd4c101f4155aa295c36d0884e59",
            "81ea17248a244b41ae3a4b53295302ba",
            "55ea714e23094aedabfa532ae677a672",
            "afa800f03e0c4af9856e560c424b4167",
            "7c47a04a82f54f4f8125076aa3310d89"
          ]
        }
      },
      "source": [
        "\n",
        "from ipywidgets import widgets\n",
        "from IPython.display import display, Markdown\n",
        "\n",
        "from pyzx.simplify import clifford_iter\n",
        "\n",
        "graph = circ.copy()\n",
        "graphs = [zx.draw_matplotlib(graph)]\n",
        "names = [\"start\"]\n",
        "for gs, n in clifford_iter(graph):\n",
        "    graphs.append(zx.draw_matplotlib(gs))\n",
        "    names.append(n)\n",
        "zx.drawing.pack_circuit_nf(gs,'grg')\n",
        "graphs.append(zx.draw_matplotlib(gs))\n",
        "names.append(\"reposition\")\n",
        "\n",
        "def plotter(rewrite):\n",
        "    display(Markdown(\"Rewrite step: \" + names[rewrite]))\n",
        "    display(graphs[rewrite])\n",
        "\n",
        "w = widgets.interactive(plotter, rewrite=(0,len(graphs)-1))\n",
        "slider = w.children[0]\n",
        "slider.layout.width = \"{!s}px\".format(min(800,50*len(graphs)))\n",
        "output = w.children[-1]\n",
        "output.layout.height = \"{!s}px\".format(200+qubit_amount*20)\n",
        "slider.value = 0\n",
        "w"
      ],
      "execution_count": 8,
      "outputs": [
        {
          "output_type": "display_data",
          "data": {
            "application/vnd.jupyter.widget-view+json": {
              "model_id": "910fa30cc2034da385838859f82b7e18",
              "version_minor": 0,
              "version_major": 2
            },
            "text/plain": [
              "interactive(children=(IntSlider(value=0, description='rewrite', layout=Layout(width='800px'), max=15), Output(…"
            ]
          },
          "metadata": {
            "tags": []
          }
        }
      ]
    },
    {
      "cell_type": "markdown",
      "metadata": {
        "id": "_FwUNpQz_Gxb"
      },
      "source": [
        "As you can see, the first few steps are spider fusion, where adjacent <b>red</b> nodes and adjacent <b>green</b> nodes are fused together (and their phases added). The next step is to convert all red nodes to green nodes by changing regular edges to hadamard edges.\n",
        "\n",
        "Now come the steps that do most of the work. These steps are a round of pivots followed by local complementations and then a round of pivots again. The local complementation rules looks for green nodes with a phase of $\\frac\\pi2$ or $\\frac{3\\pi}2$. By doing a local complementation on this node we can remove the node from the graph. This process is done until no more suitable candidates are found. A pivot consists of a series of three local complementations that is done on two neighboring vertices that have a zero or $\\pi$ phase. A pivot move allows us to remove these two nodes.\n",
        "\n",
        "Finally we do a round of identity simplification which removes phaseless nodes that are connected to precisely two neighbors.\n",
        "\n",
        "<b>Note</b>: Depending on the circuit that was generated, any of these steps might not have been done."
      ]
    },
    {
      "cell_type": "markdown",
      "metadata": {
        "id": "lFyJHo19_Y6w"
      },
      "source": [
        "Even though int the finla stage the graph is a lot compacter than the one we started out with, it no longer looks like a circuit. To fix this we need to be clever and extract a circuit from the ZX-diagram:"
      ]
    },
    {
      "cell_type": "code",
      "metadata": {
        "id": "EgwHKJUc-4IV",
        "outputId": "8d8147e5-83d8-4ff4-d2bb-ec47ec52ba1e",
        "colab": {
          "base_uri": "https://localhost:8080/",
          "height": 17
        }
      },
      "source": [
        "circ2 = g.copy()\n",
        "circ2.normalize()\n",
        "circ2 = zx.extract_circuit(circ2)\n",
        "zx.draw(circ2)"
      ],
      "execution_count": 9,
      "outputs": [
        {
          "output_type": "display_data",
          "data": {
            "text/html": [
              "<div style=\"overflow:auto\" id=\"graph-output-2\"></div>\n",
              "<script type=\"text/javascript\">\n",
              "require.config({baseUrl: \"../usr/local/lib/python3.6/dist-packages/pyzx/js\",paths: {d3: \"d3.v5.min\"} });\n",
              "// PyZX - Python library for quantum circuit rewriting \n",
              "//        and optimisation using the ZX-calculus\n",
              "// Copyright (C) 2018 - Aleks Kissinger and John van de Wetering\n",
              "\n",
              "// Licensed under the Apache License, Version 2.0 (the \"License\");\n",
              "// you may not use this file except in compliance with the License.\n",
              "// You may obtain a copy of the License at\n",
              "\n",
              "//    http://www.apache.org/licenses/LICENSE-2.0\n",
              "\n",
              "// Unless required by applicable law or agreed to in writing, software\n",
              "// distributed under the License is distributed on an \"AS IS\" BASIS,\n",
              "// WITHOUT WARRANTIES OR CONDITIONS OF ANY KIND, either express or implied.\n",
              "// See the License for the specific language governing permissions and\n",
              "// limitations under the License.\n",
              "\n",
              "require.undef('zx_viewer');\n",
              "\n",
              "define('zx_viewer', ['d3'], function(d3) {\n",
              "    \n",
              "    // styling functions\n",
              "    function nodeColor(t) {\n",
              "        if (t == 0) return \"black\";\n",
              "        else if (t == 1) return \"green\";\n",
              "        else if (t == 2) return \"red\";\n",
              "        else if (t == 3) return \"yellow\";\n",
              "    }\n",
              "\n",
              "    function edgeColor(t) {\n",
              "        if (t == 1) return \"black\";\n",
              "        else if (t == 2) return \"#08f\";\n",
              "    }\n",
              "\n",
              "    function nodeStyle(selected) {\n",
              "        return selected ? \"stroke-width: 2px; stroke: #00f\" : \"stroke-width: 1.5px\";\n",
              "    }\n",
              "\n",
              "    return {\n",
              "    showGraph: function(tag, graph, width, height, scale, node_size, auto_hbox, show_labels) {\n",
              "        var ntab = {};\n",
              "\n",
              "        graph.nodes.forEach(function(d) {\n",
              "            ntab[d.name] = d;\n",
              "            d.selected = false;\n",
              "            d.previouslySelected = false;\n",
              "            d.nhd = [];\n",
              "        });\n",
              "\n",
              "        var spiders_and_boundaries = graph.nodes.filter(function(d) {\n",
              "            return d.t != 3;\n",
              "        });\n",
              "\n",
              "        graph.links.forEach(function(d) {\n",
              "            var s = ntab[d.source];\n",
              "            var t = ntab[d.target];\n",
              "            d.source = s;\n",
              "            d.target = t;\n",
              "            s.nhd.push(t);\n",
              "            t.nhd.push(s);\n",
              "        });\n",
              "\n",
              "        var shiftKey;\n",
              "\n",
              "        // SETUP SVG ITEMS\n",
              "\n",
              "        var svg = d3.select(tag)\n",
              "            //.attr(\"tabindex\", 1)\n",
              "            .on(\"keydown.brush\", function() {shiftKey = d3.event.shiftKey || d3.event.metaKey;})\n",
              "            .on(\"keyup.brush\", function() {shiftKey = d3.event.shiftKey || d3.event.metaKey;})\n",
              "            //.each(function() { this.focus(); })\n",
              "            .append(\"svg\")\n",
              "            .attr(\"style\", \"max-width: none; max-height: none\")\n",
              "            .attr(\"width\", width)\n",
              "            .attr(\"height\", height);\n",
              "\n",
              "        var link = svg.append(\"g\")\n",
              "            .attr(\"class\", \"link\")\n",
              "            .selectAll(\"line\")\n",
              "            .data(graph.links)\n",
              "            .enter().append(\"line\")\n",
              "            .attr(\"stroke\", function(d) { return edgeColor(d.t); })\n",
              "            .attr(\"style\", \"stroke-width: 1.5px\");\n",
              "\n",
              "        var brush = svg.append(\"g\")\n",
              "            .attr(\"class\", \"brush\");\n",
              "\n",
              "        var node = svg.append(\"g\")\n",
              "            .attr(\"class\", \"node\")\n",
              "            .selectAll(\"g\")\n",
              "            .data(graph.nodes)\n",
              "            .enter().append(\"g\")\n",
              "            .attr(\"transform\", function(d) {\n",
              "                return \"translate(\" + d.x + \",\" + d.y +\")\";\n",
              "            });\n",
              "\n",
              "        node.filter(function(d) { return d.t != 3; })\n",
              "            .append(\"circle\")\n",
              "            .attr(\"r\", function(d) {\n",
              "               if (d.t == 0) return 0.5 * node_size;\n",
              "               else return node_size;\n",
              "            })\n",
              "            .attr(\"fill\", function(d) { return nodeColor(d.t); })\n",
              "            .attr(\"stroke\", \"black\");\n",
              "\n",
              "        var hbox = node.filter(function(d) { return d.t == 3; });\n",
              "\n",
              "        hbox.append(\"rect\")\n",
              "            .attr(\"x\", -0.75 * node_size).attr(\"y\", -0.75 * node_size)\n",
              "            .attr(\"width\", node_size * 1.5).attr(\"height\", node_size * 1.5)\n",
              "            .attr(\"fill\", function(d) { return nodeColor(d.t); })\n",
              "            .attr(\"stroke\", \"black\");\n",
              "\n",
              "        node.filter(function(d) { return d.phase != ''; })\n",
              "            .append(\"text\")\n",
              "            .attr(\"y\", 0.7 * node_size + 14)\n",
              "            .text(function (d) { return d.phase })\n",
              "            .attr(\"text-anchor\", \"middle\")\n",
              "            .attr(\"font-size\", \"12px\")\n",
              "            .attr(\"font-family\", \"monospace\")\n",
              "            .attr(\"fill\", \"#00d\")\n",
              "            .attr('style', 'pointer-events: none; user-select: none;');\n",
              "\n",
              "        if (show_labels) {\n",
              "            node.append(\"text\")\n",
              "                .attr(\"y\", -0.7 * node_size - 5)\n",
              "                .text(function (d) { return d.name; })\n",
              "                .attr(\"text-anchor\", \"middle\")\n",
              "                .attr(\"font-size\", \"8px\")\n",
              "                .attr(\"font-family\", \"monospace\")\n",
              "                .attr(\"fill\", \"#ccc\")\n",
              "                .attr('style', 'pointer-events: none; user-select: none;');\n",
              "        }\n",
              "\n",
              "        function update_hboxes() {\n",
              "            if (auto_hbox) {\n",
              "                var pos = {};\n",
              "                hbox.attr(\"transform\", function(d) {\n",
              "                    // calculate barycenter of non-hbox neighbours, then nudge a bit\n",
              "                    // to the NE.\n",
              "                    var x=0,y=0,sz=0;\n",
              "                    for (var i = 0; i < d.nhd.length; ++i) {\n",
              "                        if (d.nhd[i].t != 3) {\n",
              "                            sz++;\n",
              "                            x += d.nhd[i].x;\n",
              "                            y += d.nhd[i].y;\n",
              "                        }\n",
              "                    }\n",
              "\n",
              "                    offset = 0.25 * scale;\n",
              "\n",
              "                    if (sz != 0) {\n",
              "                        x = (x/sz) + offset;\n",
              "                        y = (y/sz) - offset;\n",
              "\n",
              "                        while (pos[[x,y]]) {\n",
              "                            x += offset;\n",
              "                        }\n",
              "                        d.x = x;\n",
              "                        d.y = y;\n",
              "                        pos[[x,y]] = true;\n",
              "                    }\n",
              "\n",
              "                    return \"translate(\"+d.x+\",\"+d.y+\")\";\n",
              "                });\n",
              "            }\n",
              "        }\n",
              "\n",
              "        update_hboxes();\n",
              "\n",
              "        link.attr(\"x1\", function(d) { return d.source.x; })\n",
              "            .attr(\"y1\", function(d) { return d.source.y; })\n",
              "            .attr(\"x2\", function(d) { return d.target.x; })\n",
              "            .attr(\"y2\", function(d) { return d.target.y; });\n",
              "\n",
              "        // EVENTS FOR DRAGGING AND SELECTION\n",
              "\n",
              "        node.on(\"mousedown\", function(d) {\n",
              "                if (shiftKey) {\n",
              "                    d3.select(this).select(\":first-child\").attr(\"style\", nodeStyle(d.selected = !d.selected));\n",
              "                    d3.event.stopImmediatePropagation();\n",
              "                } else if (!d.selected) {\n",
              "                    node.select(\":first-child\").attr(\"style\", function(p) { return nodeStyle(p.selected = d === p); });\n",
              "                }\n",
              "            })\n",
              "            .call(d3.drag().on(\"drag\", function(d) {\n",
              "                var dx = d3.event.dx;\n",
              "                var dy = d3.event.dy;\n",
              "                // node.filter(function(d) { return d.selected; })\n",
              "                //     .attr(\"cx\", function(d) { return d.x += dx; })\n",
              "                //     .attr(\"cy\", function(d) { return d.y += dy; });\n",
              "                node.filter(function(d) { return d.selected; })\n",
              "                    .attr(\"transform\", function(d) {\n",
              "                        d.x += dx;\n",
              "                        d.y += dy;\n",
              "                        return \"translate(\" + d.x + \",\" + d.y +\")\";\n",
              "                    });\n",
              "\n",
              "                update_hboxes();\n",
              "\n",
              "                link.filter(function(d) { return d.source.selected ||\n",
              "                                            (auto_hbox && d.source.t == 3); })\n",
              "                    .attr(\"x1\", function(d) { return d.source.x; })\n",
              "                    .attr(\"y1\", function(d) { return d.source.y; });\n",
              "\n",
              "                link.filter(function(d) { return d.target.selected ||\n",
              "                                            (auto_hbox && d.target.t == 3); })\n",
              "                    .attr(\"x2\", function(d) { return d.target.x; })\n",
              "                    .attr(\"y2\", function(d) { return d.target.y; });\n",
              "\n",
              "                // text.filter(function(d) { return d.selected; })\n",
              "                //     .attr(\"x\", function(d) { return d.x; })\n",
              "                //     .attr(\"y\", function(d) { return d.y + 0.7 * node_size + 14; });\n",
              "            }));\n",
              "\n",
              "        brush.call(d3.brush().keyModifiers(false)\n",
              "            .extent([[0, 0], [width, height]])\n",
              "            .on(\"start\", function() {\n",
              "                if (d3.event.sourceEvent.type !== \"end\") {\n",
              "                    node.select(\":first-child\").attr(\"style\", function(d) {\n",
              "                        return nodeStyle(\n",
              "                            d.selected = d.previouslySelected = shiftKey &&\n",
              "                            d.selected);\n",
              "                    });\n",
              "                }\n",
              "            })\n",
              "            .on(\"brush\", function() {\n",
              "                if (d3.event.sourceEvent.type !== \"end\") {\n",
              "                    var selection = d3.event.selection;\n",
              "                    node.select(\":first-child\").attr(\"style\", function(d) {\n",
              "                        return nodeStyle(d.selected = d.previouslySelected ^\n",
              "                            (selection != null\n",
              "                            && selection[0][0] <= d.x && d.x < selection[1][0]\n",
              "                            && selection[0][1] <= d.y && d.y < selection[1][1]));\n",
              "                    });\n",
              "                }\n",
              "            })\n",
              "            .on(\"end\", function() {\n",
              "                if (d3.event.selection != null) {\n",
              "                    d3.select(this).call(d3.event.target.move, null);\n",
              "                }\n",
              "            }));\n",
              "    }};\n",
              "});\n",
              "\n",
              "</script>\n",
              "<script type=\"text/javascript\">\n",
              "require(['zx_viewer'], function(zx_viewer) {\n",
              "    zx_viewer.showGraph('#graph-output-2',\n",
              "    JSON.parse('{\"nodes\": [{\"name\": \"0\", \"x\": 33.333333333333336, \"y\": 66.66666666666667, \"t\": 0, \"phase\": \"\"}, {\"name\": \"1\", \"x\": 33.333333333333336, \"y\": 100.0, \"t\": 0, \"phase\": \"\"}, {\"name\": \"2\", \"x\": 33.333333333333336, \"y\": 133.33333333333334, \"t\": 0, \"phase\": \"\"}, {\"name\": \"3\", \"x\": 33.333333333333336, \"y\": 166.66666666666669, \"t\": 0, \"phase\": \"\"}, {\"name\": \"4\", \"x\": 66.66666666666667, \"y\": 166.66666666666669, \"t\": 2, \"phase\": \"\"}, {\"name\": \"5\", \"x\": 66.66666666666667, \"y\": 133.33333333333334, \"t\": 1, \"phase\": \"\"}, {\"name\": \"6\", \"x\": 100.0, \"y\": 133.33333333333334, \"t\": 2, \"phase\": \"\"}, {\"name\": \"7\", \"x\": 100.0, \"y\": 166.66666666666669, \"t\": 1, \"phase\": \"\"}, {\"name\": \"8\", \"x\": 133.33333333333334, \"y\": 166.66666666666669, \"t\": 2, \"phase\": \"\"}, {\"name\": \"9\", \"x\": 133.33333333333334, \"y\": 133.33333333333334, \"t\": 1, \"phase\": \"\"}, {\"name\": \"10\", \"x\": 66.66666666666667, \"y\": 100.0, \"t\": 2, \"phase\": \"\"}, {\"name\": \"11\", \"x\": 66.66666666666667, \"y\": 66.66666666666667, \"t\": 1, \"phase\": \"\"}, {\"name\": \"12\", \"x\": 100.0, \"y\": 66.66666666666667, \"t\": 2, \"phase\": \"\"}, {\"name\": \"13\", \"x\": 100.0, \"y\": 100.0, \"t\": 1, \"phase\": \"\"}, {\"name\": \"14\", \"x\": 133.33333333333334, \"y\": 100.0, \"t\": 2, \"phase\": \"\"}, {\"name\": \"15\", \"x\": 133.33333333333334, \"y\": 66.66666666666667, \"t\": 1, \"phase\": \"\"}, {\"name\": \"16\", \"x\": 166.66666666666669, \"y\": 166.66666666666669, \"t\": 1, \"phase\": \"\"}, {\"name\": \"17\", \"x\": 166.66666666666669, \"y\": 100.0, \"t\": 1, \"phase\": \"\"}, {\"name\": \"18\", \"x\": 166.66666666666669, \"y\": 133.33333333333334, \"t\": 1, \"phase\": \"\"}, {\"name\": \"19\", \"x\": 200.0, \"y\": 133.33333333333334, \"t\": 1, \"phase\": \"\"}, {\"name\": \"20\", \"x\": 200.0, \"y\": 100.0, \"t\": 1, \"phase\": \"\"}, {\"name\": \"21\", \"x\": 233.33333333333334, \"y\": 100.0, \"t\": 1, \"phase\": \"3\\u03c0/2\"}, {\"name\": \"22\", \"x\": 200.0, \"y\": 166.66666666666669, \"t\": 1, \"phase\": \"\"}, {\"name\": \"23\", \"x\": 166.66666666666669, \"y\": 66.66666666666667, \"t\": 1, \"phase\": \"\"}, {\"name\": \"24\", \"x\": 266.6666666666667, \"y\": 100.0, \"t\": 1, \"phase\": \"\"}, {\"name\": \"25\", \"x\": 233.33333333333334, \"y\": 166.66666666666669, \"t\": 1, \"phase\": \"\"}, {\"name\": \"26\", \"x\": 233.33333333333334, \"y\": 133.33333333333334, \"t\": 1, \"phase\": \"\"}, {\"name\": \"27\", \"x\": 300.0, \"y\": 133.33333333333334, \"t\": 1, \"phase\": \"\"}, {\"name\": \"28\", \"x\": 300.0, \"y\": 100.0, \"t\": 1, \"phase\": \"\"}, {\"name\": \"29\", \"x\": 333.33333333333337, \"y\": 133.33333333333334, \"t\": 1, \"phase\": \"\"}, {\"name\": \"30\", \"x\": 333.33333333333337, \"y\": 66.66666666666667, \"t\": 1, \"phase\": \"\"}, {\"name\": \"31\", \"x\": 366.6666666666667, \"y\": 133.33333333333334, \"t\": 1, \"phase\": \"\\u03c0\"}, {\"name\": \"32\", \"x\": 400.0, \"y\": 133.33333333333334, \"t\": 1, \"phase\": \"\"}, {\"name\": \"33\", \"x\": 433.33333333333337, \"y\": 166.66666666666669, \"t\": 1, \"phase\": \"\"}, {\"name\": \"34\", \"x\": 433.33333333333337, \"y\": 133.33333333333334, \"t\": 1, \"phase\": \"\"}, {\"name\": \"35\", \"x\": 466.6666666666667, \"y\": 166.66666666666669, \"t\": 1, \"phase\": \"3\\u03c0/2\"}, {\"name\": \"36\", \"x\": 500.00000000000006, \"y\": 166.66666666666669, \"t\": 1, \"phase\": \"\"}, {\"name\": \"37\", \"x\": 533.3333333333334, \"y\": 100.0, \"t\": 2, \"phase\": \"\"}, {\"name\": \"38\", \"x\": 533.3333333333334, \"y\": 166.66666666666669, \"t\": 1, \"phase\": \"\"}, {\"name\": \"39\", \"x\": 366.6666666666667, \"y\": 66.66666666666667, \"t\": 1, \"phase\": \"3\\u03c0/2\"}, {\"name\": \"40\", \"x\": 400.0, \"y\": 66.66666666666667, \"t\": 1, \"phase\": \"\"}, {\"name\": \"41\", \"x\": 566.6666666666667, \"y\": 166.66666666666669, \"t\": 1, \"phase\": \"\"}, {\"name\": \"42\", \"x\": 566.6666666666667, \"y\": 133.33333333333334, \"t\": 1, \"phase\": \"\"}, {\"name\": \"43\", \"x\": 600.0, \"y\": 166.66666666666669, \"t\": 1, \"phase\": \"\"}, {\"name\": \"44\", \"x\": 600.0, \"y\": 66.66666666666667, \"t\": 1, \"phase\": \"\"}, {\"name\": \"45\", \"x\": 633.3333333333334, \"y\": 133.33333333333334, \"t\": 1, \"phase\": \"\"}, {\"name\": \"46\", \"x\": 633.3333333333334, \"y\": 66.66666666666667, \"t\": 1, \"phase\": \"\"}, {\"name\": \"47\", \"x\": 666.6666666666667, \"y\": 100.0, \"t\": 1, \"phase\": \"\"}, {\"name\": \"48\", \"x\": 666.6666666666667, \"y\": 66.66666666666667, \"t\": 1, \"phase\": \"\"}, {\"name\": \"49\", \"x\": 633.3333333333334, \"y\": 166.66666666666669, \"t\": 1, \"phase\": \"\\u03c0/2\"}, {\"name\": \"50\", \"x\": 666.6666666666667, \"y\": 133.33333333333334, \"t\": 1, \"phase\": \"\\u03c0/2\"}, {\"name\": \"51\", \"x\": 700.0, \"y\": 133.33333333333334, \"t\": 1, \"phase\": \"\"}, {\"name\": \"52\", \"x\": 700.0, \"y\": 100.0, \"t\": 1, \"phase\": \"\\u03c0\"}, {\"name\": \"53\", \"x\": 733.3333333333334, \"y\": 100.0, \"t\": 1, \"phase\": \"\"}, {\"name\": \"54\", \"x\": 700.0, \"y\": 66.66666666666667, \"t\": 1, \"phase\": \"\\u03c0\"}, {\"name\": \"55\", \"x\": 733.3333333333334, \"y\": 66.66666666666667, \"t\": 1, \"phase\": \"\"}, {\"name\": \"56\", \"x\": 766.6666666666667, \"y\": 66.66666666666667, \"t\": 0, \"phase\": \"\"}, {\"name\": \"57\", \"x\": 766.6666666666667, \"y\": 100.0, \"t\": 0, \"phase\": \"\"}, {\"name\": \"58\", \"x\": 766.6666666666667, \"y\": 133.33333333333334, \"t\": 0, \"phase\": \"\"}, {\"name\": \"59\", \"x\": 766.6666666666667, \"y\": 166.66666666666669, \"t\": 0, \"phase\": \"\"}], \"links\": [{\"source\": \"0\", \"target\": \"11\", \"t\": 1}, {\"source\": \"1\", \"target\": \"10\", \"t\": 1}, {\"source\": \"2\", \"target\": \"5\", \"t\": 1}, {\"source\": \"3\", \"target\": \"4\", \"t\": 1}, {\"source\": \"4\", \"target\": \"5\", \"t\": 1}, {\"source\": \"4\", \"target\": \"7\", \"t\": 1}, {\"source\": \"5\", \"target\": \"6\", \"t\": 1}, {\"source\": \"6\", \"target\": \"7\", \"t\": 1}, {\"source\": \"6\", \"target\": \"9\", \"t\": 1}, {\"source\": \"7\", \"target\": \"8\", \"t\": 1}, {\"source\": \"8\", \"target\": \"9\", \"t\": 1}, {\"source\": \"8\", \"target\": \"16\", \"t\": 2}, {\"source\": \"9\", \"target\": \"18\", \"t\": 2}, {\"source\": \"10\", \"target\": \"11\", \"t\": 1}, {\"source\": \"10\", \"target\": \"13\", \"t\": 1}, {\"source\": \"11\", \"target\": \"12\", \"t\": 1}, {\"source\": \"12\", \"target\": \"13\", \"t\": 1}, {\"source\": \"12\", \"target\": \"15\", \"t\": 1}, {\"source\": \"13\", \"target\": \"14\", \"t\": 1}, {\"source\": \"14\", \"target\": \"15\", \"t\": 1}, {\"source\": \"14\", \"target\": \"17\", \"t\": 2}, {\"source\": \"15\", \"target\": \"23\", \"t\": 2}, {\"source\": \"16\", \"target\": \"22\", \"t\": 2}, {\"source\": \"17\", \"target\": \"20\", \"t\": 1}, {\"source\": \"18\", \"target\": \"19\", \"t\": 1}, {\"source\": \"19\", \"target\": \"20\", \"t\": 2}, {\"source\": \"19\", \"target\": \"26\", \"t\": 1}, {\"source\": \"20\", \"target\": \"21\", \"t\": 1}, {\"source\": \"21\", \"target\": \"24\", \"t\": 2}, {\"source\": \"22\", \"target\": \"25\", \"t\": 1}, {\"source\": \"23\", \"target\": \"30\", \"t\": 1}, {\"source\": \"24\", \"target\": \"28\", \"t\": 1}, {\"source\": \"25\", \"target\": \"26\", \"t\": 2}, {\"source\": \"25\", \"target\": \"33\", \"t\": 1}, {\"source\": \"26\", \"target\": \"27\", \"t\": 1}, {\"source\": \"27\", \"target\": \"28\", \"t\": 2}, {\"source\": \"27\", \"target\": \"29\", \"t\": 1}, {\"source\": \"28\", \"target\": \"37\", \"t\": 1}, {\"source\": \"29\", \"target\": \"30\", \"t\": 2}, {\"source\": \"29\", \"target\": \"31\", \"t\": 1}, {\"source\": \"30\", \"target\": \"39\", \"t\": 1}, {\"source\": \"31\", \"target\": \"32\", \"t\": 2}, {\"source\": \"32\", \"target\": \"34\", \"t\": 1}, {\"source\": \"33\", \"target\": \"34\", \"t\": 2}, {\"source\": \"33\", \"target\": \"35\", \"t\": 1}, {\"source\": \"34\", \"target\": \"42\", \"t\": 1}, {\"source\": \"35\", \"target\": \"36\", \"t\": 2}, {\"source\": \"36\", \"target\": \"38\", \"t\": 1}, {\"source\": \"37\", \"target\": \"38\", \"t\": 1}, {\"source\": \"37\", \"target\": \"47\", \"t\": 1}, {\"source\": \"38\", \"target\": \"41\", \"t\": 1}, {\"source\": \"39\", \"target\": \"40\", \"t\": 2}, {\"source\": \"40\", \"target\": \"44\", \"t\": 1}, {\"source\": \"41\", \"target\": \"42\", \"t\": 2}, {\"source\": \"41\", \"target\": \"43\", \"t\": 1}, {\"source\": \"42\", \"target\": \"45\", \"t\": 1}, {\"source\": \"43\", \"target\": \"44\", \"t\": 2}, {\"source\": \"43\", \"target\": \"49\", \"t\": 1}, {\"source\": \"44\", \"target\": \"46\", \"t\": 1}, {\"source\": \"45\", \"target\": \"46\", \"t\": 2}, {\"source\": \"45\", \"target\": \"50\", \"t\": 1}, {\"source\": \"46\", \"target\": \"48\", \"t\": 1}, {\"source\": \"47\", \"target\": \"48\", \"t\": 2}, {\"source\": \"47\", \"target\": \"52\", \"t\": 1}, {\"source\": \"48\", \"target\": \"54\", \"t\": 1}, {\"source\": \"49\", \"target\": \"59\", \"t\": 1}, {\"source\": \"50\", \"target\": \"51\", \"t\": 2}, {\"source\": \"51\", \"target\": \"58\", \"t\": 1}, {\"source\": \"52\", \"target\": \"53\", \"t\": 2}, {\"source\": \"53\", \"target\": \"57\", \"t\": 1}, {\"source\": \"54\", \"target\": \"55\", \"t\": 2}, {\"source\": \"55\", \"target\": \"56\", \"t\": 1}]}'), 800.0, 233.33333333333334, 33.333333333333336, 6.666666666666668, true, false);\n",
              "});\n",
              "</script>"
            ],
            "text/plain": [
              "<IPython.core.display.HTML object>"
            ]
          },
          "metadata": {
            "tags": []
          }
        }
      ]
    },
    {
      "cell_type": "markdown",
      "metadata": {
        "id": "CieG9JKPACmw"
      },
      "source": [
        "To verify that this circuit (circ2) is equal to the original circuit (cirq), we can transform them into <b>numpy tensors</b> and compare these tensors for equality:"
      ]
    },
    {
      "cell_type": "code",
      "metadata": {
        "id": "No3b8WI5AKal",
        "outputId": "f66394e4-a59c-4d0c-b2c1-5411932d0e4f",
        "colab": {
          "base_uri": "https://localhost:8080/",
          "height": 34
        }
      },
      "source": [
        "t1 = circ.to_tensor()\n",
        "t2 = circ2.to_tensor()\n",
        "zx.compare_tensors(t1,t2,preserve_scalar=False)"
      ],
      "execution_count": 12,
      "outputs": [
        {
          "output_type": "execute_result",
          "data": {
            "text/plain": [
              "False"
            ]
          },
          "metadata": {
            "tags": []
          },
          "execution_count": 12
        }
      ]
    },
    {
      "cell_type": "markdown",
      "metadata": {
        "id": "Bw1QxB_VARIP"
      },
      "source": [
        "```zx.compare_tensors(t1,t2,preserve_scalar=False)``` This checks whether t1 and t2 are equal up to some number: <b>t1 == z*t2 for some complex number z"
      ]
    },
    {
      "cell_type": "markdown",
      "metadata": {
        "id": "YSMpIdLBBRgO"
      },
      "source": [
        "\n",
        "We can represent the circuit in one of several quantum circuit description languages, such as that of <b>QUIPPER</b> ( basically assembly language code for Quantum Computers ):"
      ]
    },
    {
      "cell_type": "code",
      "metadata": {
        "id": "TwAmJR6GBdCK",
        "outputId": "578fbb07-f1cf-4b67-952d-24cc774abb33",
        "colab": {
          "base_uri": "https://localhost:8080/",
          "height": 655
        }
      },
      "source": [
        "\n",
        "print(circ2.to_quipper())"
      ],
      "execution_count": 13,
      "outputs": [
        {
          "output_type": "stream",
          "text": [
            "Inputs: 0:Qbit, 1:Qbit, 2:Qbit, 3:Qbit\n",
            "QGate[\"not\"](3) with controls=[+2] with nocontrol\n",
            "QGate[\"not\"](2) with controls=[+3] with nocontrol\n",
            "QGate[\"not\"](3) with controls=[+2] with nocontrol\n",
            "QGate[\"not\"](1) with controls=[+0] with nocontrol\n",
            "QGate[\"not\"](0) with controls=[+1] with nocontrol\n",
            "QGate[\"not\"](1) with controls=[+0] with nocontrol\n",
            "QGate[\"H\"](3) with nocontrol\n",
            "QGate[\"H\"](1) with nocontrol\n",
            "QGate[\"H\"](2) with nocontrol\n",
            "QGate[\"Z\"](2) with controls=[+1] with nocontrol\n",
            "QRot[\"exp(-i%Z)\",2.356194490192345](1)\n",
            "QGate[\"H\"](3) with nocontrol\n",
            "QGate[\"H\"](0) with nocontrol\n",
            "QGate[\"H\"](1) with nocontrol\n",
            "QGate[\"Z\"](3) with controls=[+2] with nocontrol\n",
            "QGate[\"Z\"](2) with controls=[+1] with nocontrol\n",
            "QGate[\"Z\"](2) with controls=[+0] with nocontrol\n",
            "QRot[\"exp(-i%Z)\",1.5707963267948966](2)\n",
            "QGate[\"H\"](2) with nocontrol\n",
            "QGate[\"Z\"](3) with controls=[+2] with nocontrol\n",
            "QRot[\"exp(-i%Z)\",2.356194490192345](3)\n",
            "QGate[\"H\"](3) with nocontrol\n",
            "QGate[\"not\"](1) with controls=[+3] with nocontrol\n",
            "QRot[\"exp(-i%Z)\",2.356194490192345](0)\n",
            "QGate[\"H\"](0) with nocontrol\n",
            "QGate[\"Z\"](3) with controls=[+2] with nocontrol\n",
            "QGate[\"Z\"](3) with controls=[+0] with nocontrol\n",
            "QGate[\"Z\"](2) with controls=[+0] with nocontrol\n",
            "QGate[\"Z\"](1) with controls=[+0] with nocontrol\n",
            "QRot[\"exp(-i%Z)\",0.7853981633974483](3)\n",
            "QRot[\"exp(-i%Z)\",0.7853981633974483](2)\n",
            "QGate[\"H\"](2) with nocontrol\n",
            "QRot[\"exp(-i%Z)\",1.5707963267948966](1)\n",
            "QGate[\"H\"](1) with nocontrol\n",
            "QRot[\"exp(-i%Z)\",1.5707963267948966](0)\n",
            "QGate[\"H\"](0) with nocontrol\n",
            "Outputs: 0:Qbit, 1:Qbit, 2:Qbit, 3:Qbit\n"
          ],
          "name": "stdout"
        }
      ]
    },
    {
      "cell_type": "markdown",
      "metadata": {
        "id": "2NjMguO2Bhwy"
      },
      "source": [
        "Same thing can be done with more complicated circuits like Clifford+T circuit."
      ]
    },
    {
      "cell_type": "markdown",
      "metadata": {
        "id": "akpkIqqdBu1j"
      },
      "source": [
        "Optimizing random circuits is of course not very useful, so in later stages optimization on a predefined circuit would be focused upon ✌"
      ]
    }
  ]
}