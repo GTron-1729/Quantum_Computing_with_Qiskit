{
  "nbformat": 4,
  "nbformat_minor": 0,
  "metadata": {
    "colab": {
      "name": "Quantum_Tutorial_BellState.ipynb",
      "provenance": []
    },
    "kernelspec": {
      "name": "python3",
      "display_name": "Python 3"
    }
  },
  "cells": [
    {
      "cell_type": "markdown",
      "metadata": {
        "id": "PF2YaOmPzokB"
      },
      "source": [
        "First of all we need to install <b>Qiskit</b> into Google Colab"
      ]
    },
    {
      "cell_type": "code",
      "metadata": {
        "id": "btsrFhiBcOVq"
      },
      "source": [
        "!pip install qiskit\n"
      ],
      "execution_count": null,
      "outputs": []
    },
    {
      "cell_type": "markdown",
      "metadata": {
        "id": "OROKJblSz2TJ"
      },
      "source": [
        "Before starting check whether qiskit is properly installed or not by running the command below;"
      ]
    },
    {
      "cell_type": "code",
      "metadata": {
        "id": "ZjP8-GBRdQ44",
        "outputId": "b19e6cd0-37ed-4c8c-f195-60575055ff71",
        "colab": {
          "base_uri": "https://localhost:8080/",
          "height": 118
        }
      },
      "source": [
        "import qiskit\n",
        "qiskit.__qiskit_version__"
      ],
      "execution_count": 4,
      "outputs": [
        {
          "output_type": "execute_result",
          "data": {
            "text/plain": [
              "{'qiskit': None,\n",
              " 'qiskit-aer': '0.6.1',\n",
              " 'qiskit-aqua': '0.7.5',\n",
              " 'qiskit-ibmq-provider': '0.10.0',\n",
              " 'qiskit-ignis': '0.4.0',\n",
              " 'qiskit-terra': '0.15.2'}"
            ]
          },
          "metadata": {
            "tags": []
          },
          "execution_count": 4
        }
      ]
    },
    {
      "cell_type": "markdown",
      "metadata": {
        "id": "kxFCHiYp00i0"
      },
      "source": [
        "Now Qiskit follows a 3 step approach to solve problems;\n",
        "\n",
        "- <b>Build</b>: design a quantum circuit that represents the problem you are considering.\n",
        "\n",
        "- <b>Execute</b>: run experiments on different backends (which include both systems and simulators).\n",
        "\n",
        "- <b>Analyze</b>: calculate summary statistics and visualize the results of experiments."
      ]
    },
    {
      "cell_type": "markdown",
      "metadata": {
        "id": "gQ1KX2FX1xTR"
      },
      "source": [
        "<b>Step 1</b>: Now lets start by importing the basic elements needed for our program "
      ]
    },
    {
      "cell_type": "code",
      "metadata": {
        "id": "Gc6X0lPqc6xZ"
      },
      "source": [
        "import numpy as np\n",
        "from qiskit import(\n",
        "  QuantumCircuit,\n",
        "  execute,\n",
        "  Aer)\n",
        "from qiskit.visualization import plot_histogram"
      ],
      "execution_count": 5,
      "outputs": []
    },
    {
      "cell_type": "markdown",
      "metadata": {
        "id": "8uD8IK1s2TiW"
      },
      "source": [
        "In more details the above imports are;\n",
        "\n",
        "```QuantumCircuit```: can be thought as the instructions of the quantum system. It holds all your quantum operations.\n",
        "\n",
        "```execute```: runs your circuit / experiment.\n",
        "\n",
        "```Aer```: handles simulator backends.\n",
        "\n",
        "```plot_histogram```: creates histograms."
      ]
    },
    {
      "cell_type": "markdown",
      "metadata": {
        "id": "AfSKzp59285g"
      },
      "source": [
        "<b> Step 2 </b>: Initialize the Variables"
      ]
    },
    {
      "cell_type": "code",
      "metadata": {
        "id": "BjJX4fQoCcg4"
      },
      "source": [
        "circuit = QuantumCircuit(2,2)"
      ],
      "execution_count": 6,
      "outputs": []
    },
    {
      "cell_type": "markdown",
      "metadata": {
        "id": "6ebXqDgcCpPO"
      },
      "source": [
        "The syntax is ``` QuantumCircuit(int, int)```\n",
        "First arg is no of Qubits and other arg is no of Classical bits (Optional). \n",
        "\n",
        "2 qubits are initialized in the zero state; with 2 classical bits set to zero."
      ]
    },
    {
      "cell_type": "markdown",
      "metadata": {
        "id": "PfHnHJ3WDjGj"
      },
      "source": [
        "<b> Step 3 </b> : Add gates (operations) to manipulate our qubits"
      ]
    },
    {
      "cell_type": "code",
      "metadata": {
        "id": "jIwqMoZGEB3u",
        "outputId": "b31ac484-363e-48d6-d577-eae02ba9c738",
        "colab": {
          "base_uri": "https://localhost:8080/",
          "height": 34
        }
      },
      "source": [
        "circuit.h(0)\n",
        "circuit.cx(0, 1)\n",
        "circuit.measure([0,1], [0,1])"
      ],
      "execution_count": 7,
      "outputs": [
        {
          "output_type": "execute_result",
          "data": {
            "text/plain": [
              "<qiskit.circuit.instructionset.InstructionSet at 0x7f0b66c05ba8>"
            ]
          },
          "metadata": {
            "tags": []
          },
          "execution_count": 7
        }
      ]
    },
    {
      "cell_type": "markdown",
      "metadata": {
        "id": "o-kU-HZ9ELiM"
      },
      "source": [
        "The gates are sequentially added to give a bell state ``` |ψ⟩=(|00⟩+|11⟩)/√2```\n",
        "\n",
        "```circuit.h(0)```: A Hadamard gate H on qubit 0, which puts it into a superposition state.\n",
        "\n",
        "```circuit.cx(0, 1)```: A controlled-Not operation (CX) on control qubit 0 and target qubit 1, putting the qubits in an entangled state.\n",
        "\n",
        "```circuit.measure([0,1], [0,1])```: if you pass the entire quantum and classical registers, measured values of qubits are stored in classical bits. "
      ]
    },
    {
      "cell_type": "markdown",
      "metadata": {
        "id": "YHX43LzHkmRe"
      },
      "source": [
        "<b> Step 4</b>: Visualize the Circuit\n",
        "\n",
        "```circuit.draw()``` can be used to view the circuit in [various forms](https://qiskit.org/documentation/api/qiskit.circuit.QuantumCircuit.html#qiskit.circuit.QuantumCircuit.draw)"
      ]
    },
    {
      "cell_type": "code",
      "metadata": {
        "id": "b08KSAxDk9DB",
        "outputId": "451a1e14-5435-4312-e9fe-6f037a231a64",
        "colab": {
          "base_uri": "https://localhost:8080/",
          "height": 123
        }
      },
      "source": [
        "circuit.draw()"
      ],
      "execution_count": 8,
      "outputs": [
        {
          "output_type": "execute_result",
          "data": {
            "text/html": [
              "<pre style=\"word-wrap: normal;white-space: pre;background: #fff0;line-height: 1.1;font-family: &quot;Courier New&quot;,Courier,monospace\">     ┌───┐     ┌─┐   \n",
              "q_0: ┤ H ├──■──┤M├───\n",
              "     └───┘┌─┴─┐└╥┘┌─┐\n",
              "q_1: ─────┤ X ├─╫─┤M├\n",
              "          └───┘ ║ └╥┘\n",
              "c: 2/═══════════╩══╩═\n",
              "                0  1 </pre>"
            ],
            "text/plain": [
              "     ┌───┐     ┌─┐   \n",
              "q_0: ┤ H ├──■──┤M├───\n",
              "     └───┘┌─┴─┐└╥┘┌─┐\n",
              "q_1: ─────┤ X ├─╫─┤M├\n",
              "          └───┘ ║ └╥┘\n",
              "c: 2/═══════════╩══╩═\n",
              "                0  1 "
            ]
          },
          "metadata": {
            "tags": []
          },
          "execution_count": 8
        }
      ]
    },
    {
      "cell_type": "markdown",
      "metadata": {
        "id": "bfh-cNanl2DQ"
      },
      "source": [
        "The circuit is read from left to right \n",
        "- Hadamard gate was applied \n",
        "- Cnot gate was applied\n",
        "- Values were measured ( q0 being first and q1 being second ) and values were stored in classical bits."
      ]
    },
    {
      "cell_type": "markdown",
      "metadata": {
        "id": "eyGOZB9fmN4B"
      },
      "source": [
        "<b> Step 5: Simulate the Circuit </b>\n",
        "\n",
        "Qiskit Aer is a high performance simulator framework for quantum circuits"
      ]
    },
    {
      "cell_type": "markdown",
      "metadata": {
        "id": "vm9PasHjmuno"
      },
      "source": [
        "If you have issues installing Aer, you can alternatively use the Basic Aer provider by replacing <b>Aer</b> with <b>BasicAer</b>"
      ]
    },
    {
      "cell_type": "markdown",
      "metadata": {
        "id": "eJiCkidvm1ja"
      },
      "source": [
        "```\n",
        "import numpy as np\n",
        "from qiskit import(\n",
        "  QuantumCircuit,\n",
        "  execute,\n",
        "  BasicAer)\n",
        "...\n",
        "```"
      ]
    },
    {
      "cell_type": "markdown",
      "metadata": {
        "id": "71idZ53vnF0K"
      },
      "source": [
        "To simulate this circuit, we will use the qasm_simulator. \n",
        "\n",
        "Each run of this circuit will yield either the bit string 00 or 11\n",
        "as per ```|ψ⟩=(|00⟩+|11⟩)/√2```"
      ]
    },
    {
      "cell_type": "code",
      "metadata": {
        "id": "d_eipvB1nSbK",
        "outputId": "a07ecc30-08bd-4d73-e16a-1c3bcc201ec7",
        "colab": {
          "base_uri": "https://localhost:8080/",
          "height": 50
        }
      },
      "source": [
        "simulator = Aer.get_backend('qasm_simulator')\n",
        "job = execute(circuit, simulator, shots=1000)\n",
        "result = job.result()\n",
        "counts = result.get_counts(circuit)\n",
        "print(\"\\nTotal count for 00 and 11 are:\",counts)"
      ],
      "execution_count": 12,
      "outputs": [
        {
          "output_type": "stream",
          "text": [
            "\n",
            "Total count for 00 and 11 are: {'00': 509, '11': 491}\n"
          ],
          "name": "stdout"
        }
      ]
    },
    {
      "cell_type": "markdown",
      "metadata": {
        "id": "UZ_-90tDnga_"
      },
      "source": [
        "As expected, the output bit string is 00 approximately 50 percent of the time. \n",
        "\n",
        "The number of times the circuit is run can be specified via the ```shots``` argument of the ```execute``` method. The number of shots of the simulation was set to be 1000 (the default is 1024)."
      ]
    },
    {
      "cell_type": "markdown",
      "metadata": {
        "id": "1uaEMpl8oF6b"
      },
      "source": [
        "Once you have a ```result``` object, you can access the counts via the method ```get_counts(circuit)```. This gives you the aggregate outcomes of the experiment you ran."
      ]
    },
    {
      "cell_type": "markdown",
      "metadata": {
        "id": "bxRp2ZfeoRBp"
      },
      "source": [
        "<b> Step 6: Visualize the results</b> \n",
        "\n",
        "Qiskit provides [many visualizations](https://qiskit.org/documentation/apidoc/visualization.html)\n",
        "\n",
        "we will use ```plot_histogram(counts)``` here."
      ]
    },
    {
      "cell_type": "code",
      "metadata": {
        "id": "12tgbTL-oibL",
        "outputId": "049b5474-c3fa-4aba-f9b0-5b4bd96adfc1",
        "colab": {
          "base_uri": "https://localhost:8080/",
          "height": 332
        }
      },
      "source": [
        "plot_histogram(counts)"
      ],
      "execution_count": 13,
      "outputs": [
        {
          "output_type": "execute_result",
          "data": {
            "image/png": "[encoded data removed]",
            "text/plain": [
              "<Figure size 504x360 with 1 Axes>"
            ]
          },
          "metadata": {
            "tags": []
          },
          "execution_count": 13
        }
      ]
    },
    {
      "cell_type": "markdown",
      "metadata": {
        "id": "AA8Fx6PBorf7"
      },
      "source": [
        "The observed probabilities <b>Pr(00)</b> and <b>Pr(11)</b> are computed by taking the respective counts and dividing by the total number of shots."
      ]
    },
    {
      "cell_type": "markdown",
      "metadata": {
        "id": "B_z0HFTYoz8t"
      },
      "source": [
        "We can play with values of shots to see variations in probabilities of both states.\n",
        "\n",
        "<b>Thats how Bell State is acheived using Quantum Computing & Qiskit."
      ]
    }
  ]
}